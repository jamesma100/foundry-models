{
 "cells": [
  {
   "cell_type": "code",
   "execution_count": 94,
   "metadata": {},
   "outputs": [],
   "source": [
    "from schnetpack.datasets import QM9\n",
    "\n",
    "qm9data = QM9('../data/qm9.db', download=False)"
   ]
  },
  {
   "cell_type": "code",
   "execution_count": 2,
   "metadata": {},
   "outputs": [],
   "source": [
    "import numpy as np\n",
    "import torch\n",
    "\n",
    "from dscribe.descriptors import SOAP\n",
    "from ase.io import read\n",
    "from ase import Atoms\n",
    "from ase.build import molecule"
   ]
  },
  {
   "cell_type": "code",
   "execution_count": 3,
   "metadata": {},
   "outputs": [],
   "source": [
    "'''\n",
    "xyz format\n",
    "- line 1: number of atoms n\n",
    "- line 2: scalar properties\n",
    "- line 3, ..., n+1: element type, coordinates xyz, Mulliken partial charges on atoms\n",
    "'''\n",
    "def parse_xyz(filename):\n",
    "    num_atoms = 0\n",
    "    scalar_properties = []\n",
    "    atomic_symbols = []\n",
    "    xyz = []\n",
    "    charges = []\n",
    "    smiles = \"\"\n",
    "    with open(filename, 'r') as f:\n",
    "        for line_num, line in enumerate(f):\n",
    "            if line_num == 0:\n",
    "                num_atoms = int(line)\n",
    "            elif line_num == 1:\n",
    "                scalar_properties = [float(i) for i in line.split()[2:]]\n",
    "            elif 2 <= line_num <= 1 + num_atoms:\n",
    "                atom_symbol, x, y, z, charge = line.split()\n",
    "                atomic_symbols.append(atom_symbol)\n",
    "                xyz.append([float(x), float(y), float(z)])\n",
    "                charges.append(float(charge))\n",
    "            elif line_num == num_atoms + 3:\n",
    "                smiles = str(line.split())\n",
    "\n",
    "    result = {\n",
    "        'num_atoms': num_atoms,\n",
    "        'atomic_symbols': atomic_symbols,\n",
    "        'pos': torch.tensor(xyz),\n",
    "        'charges': np.array(charges),\n",
    "        'smiles': smiles\n",
    "    }\n",
    "    return result"
   ]
  },
  {
   "cell_type": "code",
   "execution_count": 9,
   "metadata": {},
   "outputs": [
    {
     "name": "stdout",
     "output_type": "stream",
     "text": [
      "[ 0.00583903  0.02317044  0.05105605 ...  0.0035384  -0.00360856\n",
      "  0.00375531]\n",
      "[ 0.00592888  0.02332346  0.05267758 ...  0.00400366 -0.00380279\n",
      "  0.00371058]\n",
      "[ 0.00607159  0.02390242  0.05401356 ...  0.00424634 -0.00399596\n",
      "  0.00385569]\n",
      "[ 0.00658821  0.0261824   0.0586933  ...  0.0064761  -0.00606609\n",
      "  0.0058116 ]\n",
      "[ 0.00647181  0.02587481  0.05691346 ...  0.00370507 -0.00344536\n",
      "  0.00328494]\n",
      "[ 0.005732    0.02269543  0.05071326 ...  0.00336161 -0.00354908\n",
      "  0.00378139]\n"
     ]
    }
   ],
   "source": [
    "soaps = []\n",
    "num_files = 133885\n",
    "temp = 10\n",
    "for i in range(133880, num_files+1):\n",
    "    \n",
    "    # create molecule object\n",
    "    file_name = \"../../data/dsgdb9nsd.xyz/dsgdb9nsd_\" + \\\n",
    "        str(i).zfill(6) + \".xyz\"\n",
    "    molecule = parse_xyz(file_name)\n",
    "    molecule_obj = Atoms(symbols=molecule[\"atomic_symbols\"], positions=molecule[\"pos\"])\n",
    "    \n",
    "    # set up soap descriptor\n",
    "    species = set()\n",
    "    species.update(molecule_obj.get_chemical_symbols())\n",
    "    \n",
    "    soap = SOAP(\n",
    "        species=species,\n",
    "        periodic=False,\n",
    "        rcut=5,\n",
    "        nmax=8,\n",
    "        lmax=8,\n",
    "        average=\"outer\",\n",
    "        sparse=False\n",
    "    )\n",
    "    feature_vector = soap.create(molecule_obj)\n",
    "    print(feature_vector)\n",
    "    soaps.append(feature_vector)\n",
    "    "
   ]
  },
  {
   "cell_type": "code",
   "execution_count": 10,
   "metadata": {},
   "outputs": [
    {
     "data": {
      "text/plain": [
       "[array([ 0.00583903,  0.02317044,  0.05105605, ...,  0.0035384 ,\n",
       "        -0.00360856,  0.00375531], dtype=float32),\n",
       " array([ 0.00592888,  0.02332346,  0.05267758, ...,  0.00400366,\n",
       "        -0.00380279,  0.00371058], dtype=float32),\n",
       " array([ 0.00607159,  0.02390242,  0.05401356, ...,  0.00424634,\n",
       "        -0.00399596,  0.00385569], dtype=float32),\n",
       " array([ 0.00658821,  0.0261824 ,  0.0586933 , ...,  0.0064761 ,\n",
       "        -0.00606609,  0.0058116 ], dtype=float32),\n",
       " array([ 0.00647181,  0.02587481,  0.05691346, ...,  0.00370507,\n",
       "        -0.00344536,  0.00328494], dtype=float32),\n",
       " array([ 0.005732  ,  0.02269543,  0.05071326, ...,  0.00336161,\n",
       "        -0.00354908,  0.00378139], dtype=float32)]"
      ]
     },
     "execution_count": 10,
     "metadata": {},
     "output_type": "execute_result"
    }
   ],
   "source": [
    "soaps"
   ]
  },
  {
   "cell_type": "code",
   "execution_count": null,
   "metadata": {},
   "outputs": [],
   "source": []
  },
  {
   "cell_type": "code",
   "execution_count": null,
   "metadata": {},
   "outputs": [],
   "source": []
  }
 ],
 "metadata": {
  "kernelspec": {
   "display_name": "Python [conda env:my-rdkit-env]",
   "language": "python",
   "name": "conda-env-my-rdkit-env-py"
  },
  "language_info": {
   "codemirror_mode": {
    "name": "ipython",
    "version": 3
   },
   "file_extension": ".py",
   "mimetype": "text/x-python",
   "name": "python",
   "nbconvert_exporter": "python",
   "pygments_lexer": "ipython3",
   "version": "3.9.2"
  }
 },
 "nbformat": 4,
 "nbformat_minor": 4
}
