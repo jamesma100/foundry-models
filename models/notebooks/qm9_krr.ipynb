{
 "cells": [
  {
   "cell_type": "code",
   "execution_count": 8,
   "metadata": {},
   "outputs": [],
   "source": [
    "from sklearn.kernel_ridge import KernelRidge\n",
    "from matplotlib import pyplot\n",
    "from sklearn.metrics import mean_squared_error\n",
    "from sklearn.metrics import mean_absolute_error\n",
    "from sklearn.metrics import r2_score\n",
    "import sqlite3\n",
    "import numpy as np\n",
    "import csv\n",
    "import math\n",
    "from rdkit import Chem\n",
    "from rdkit.Chem import MACCSkeys\n",
    "from sklearn.model_selection import cross_validate"
   ]
  },
  {
   "cell_type": "code",
   "execution_count": 18,
   "metadata": {},
   "outputs": [],
   "source": [
    "def Transform_Data():\n",
    "    \n",
    "    SMILESdata, GapData = readCSV('../../data/qm9.csv')\n",
    "    SMILESstrings = list(SMILESdata.keys())\n",
    "    FeatureVector = []\n",
    "    BadParticles = []\n",
    "    for string in SMILESstrings:\n",
    "        mol = Chem.MolFromSmiles(SMILESdata[string])\n",
    "        if(mol != None):\n",
    "            fp = MACCSkeys.GenMACCSKeys(mol)\n",
    "            fpBits = fp.ToBitString()\n",
    "            FeatureVector.append(split(fpBits))\n",
    "        else:\n",
    "            BadParticles.append(string)\n",
    "    X = np.array(FeatureVector[:5000])\n",
    "    Z = np.array(FeatureVector[5000:10000])\n",
    "    print(X.shape)\n",
    "    print(Z.shape)\n",
    "    for keys in BadParticles:\n",
    "        del GapData[keys]\n",
    "    GapData = list(GapData.values())\n",
    "    y3 = np.array(GapData[:5000])\n",
    "    w3 = np.array(GapData[5000:10000])\n",
    "    return X, Z, w3, y3"
   ]
  },
  {
   "cell_type": "code",
   "execution_count": 19,
   "metadata": {},
   "outputs": [],
   "source": [
    "def split(bitString):\n",
    "    \n",
    "    return [int(char) for char in bitString] \n",
    "\n",
    "def readCSV(filepath):\n",
    "\n",
    "    Smile_Strings = {}\n",
    "    Gap_Id = {}\n",
    "    with open(filepath, newline = '') as csvfile:\n",
    "        reader = csv.DictReader(csvfile)\n",
    "        for row in reader:\n",
    "            Smile_Strings[row['mol_id']] = row['smiles']\n",
    "            Gap_Id[row['mol_id']] = float(row['gap'])\n",
    "    \n",
    "    return Smile_Strings, Gap_Id\n",
    "    "
   ]
  },
  {
   "cell_type": "code",
   "execution_count": 26,
   "metadata": {},
   "outputs": [],
   "source": [
    "def Create_Model():\n",
    "    \n",
    "    model3 = KernelRidge(kernel='laplacian')\n",
    "    X, Z, w3, y3= Transform_Data()\n",
    "    print(\"X: \", X)\n",
    "    print(\"y3: \", y3)\n",
    "    model3.fit(X, y3)\n",
    "    predict3 = model3.predict(Z)\n",
    "    '''\n",
    "    c = np.random.rand(25000)\n",
    "    pyplot.scatter(w3, predict3, c=c)\n",
    "    pyplot.ylabel('Test Data')\n",
    "    pyplot.xlabel('Predict Data')\n",
    "    pyplot.title('Gap')\n",
    "    pyplot.show()\n",
    "    '''\n",
    "    \n",
    "    R_squared3 = r2_score(w3, predict3)\n",
    "    RMSE3 = math.sqrt(mean_squared_error(w3, predict3))\n",
    "    MAE3 = mean_absolute_error(w3, predict3)\n",
    "    print(\"The R^2 score of GAP model is: \",R_squared3)\n",
    "    print(\"The RMSE score of GAP model is: \", RMSE3)\n",
    "    print(\"The MAE score of GAP model is: \", MAE3)"
   ]
  },
  {
   "cell_type": "code",
   "execution_count": 27,
   "metadata": {},
   "outputs": [
    {
     "name": "stdout",
     "output_type": "stream",
     "text": [
      "(5000, 167)\n",
      "(5000, 167)\n",
      "X:  [[0 0 0 ... 0 0 0]\n",
      " [0 0 0 ... 0 0 0]\n",
      " [0 0 0 ... 1 0 0]\n",
      " ...\n",
      " [0 0 0 ... 1 1 0]\n",
      " [0 0 0 ... 1 1 0]\n",
      " [0 0 0 ... 1 1 0]]\n",
      "y3:  [0.5048 0.3399 0.3615 ... 0.1936 0.1738 0.1668]\n",
      "The R^2 score of GAP model is:  0.799187862981124\n",
      "The RMSE score of GAP model is:  0.021262721519055183\n",
      "The MAE score of GAP model is:  0.015984104240918173\n"
     ]
    }
   ],
   "source": [
    "if __name__ == \"__main__\":\n",
    "    Create_Model()"
   ]
  },
  {
   "cell_type": "code",
   "execution_count": null,
   "metadata": {},
   "outputs": [],
   "source": []
  }
 ],
 "metadata": {
  "kernelspec": {
   "display_name": "my-rdkit-env",
   "language": "python",
   "name": "my-rdkit-env"
  },
  "language_info": {
   "codemirror_mode": {
    "name": "ipython",
    "version": 3
   },
   "file_extension": ".py",
   "mimetype": "text/x-python",
   "name": "python",
   "nbconvert_exporter": "python",
   "pygments_lexer": "ipython3",
   "version": "3.9.2"
  }
 },
 "nbformat": 4,
 "nbformat_minor": 5
}
