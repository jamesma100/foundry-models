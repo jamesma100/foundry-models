{
 "cells": [
  {
   "cell_type": "code",
   "execution_count": 11,
   "metadata": {},
   "outputs": [],
   "source": [
    "import numpy as np\n",
    "#import torch\n",
    "import random\n",
    "import os\n",
    "\n",
    "from dscribe.descriptors import SOAP\n",
    "from ase.io import read\n",
    "from ase import Atoms\n",
    "from ase.build import molecule"
   ]
  },
  {
   "cell_type": "code",
   "execution_count": 2,
   "metadata": {},
   "outputs": [],
   "source": [
    "from sklearn.kernel_ridge import KernelRidge\n",
    "from matplotlib import pyplot\n",
    "from sklearn.metrics import mean_squared_error\n",
    "from sklearn.metrics import mean_absolute_error\n",
    "from sklearn.metrics import r2_score\n",
    "import sqlite3\n",
    "import numpy as np\n",
    "import csv\n",
    "import math\n",
    "from rdkit import Chem\n",
    "from rdkit.Chem import MACCSkeys\n",
    "from sklearn.model_selection import cross_validate"
   ]
  },
  {
   "cell_type": "code",
   "execution_count": 3,
   "metadata": {},
   "outputs": [],
   "source": [
    "def parse_float(s: str) -> float:\n",
    "    try:\n",
    "        return float(s)\n",
    "    except ValueError:\n",
    "        base, power = s.split('*^')\n",
    "        return float(base) * 10**float(power)"
   ]
  },
  {
   "cell_type": "code",
   "execution_count": 4,
   "metadata": {},
   "outputs": [],
   "source": [
    "'''\n",
    "xyz format\n",
    "- line 1: number of atoms n\n",
    "- line 2: scalar properties\n",
    "- line 3, ..., n+1: element type, coordinates xyz, Mulliken partial charges on atoms\n",
    "'''\n",
    "\n",
    "# parse an xyz file, returns a result dictionary of a molecule\n",
    "def parse_xyz(filename):\n",
    "    num_atoms = 0\n",
    "    scalar_properties = []\n",
    "    atomic_symbols = []\n",
    "    xyz = []\n",
    "    charges = []\n",
    "    smiles = \"\"\n",
    "    with open(filename, 'r') as f:\n",
    "        for line_num, line in enumerate(f):\n",
    "            if line_num == 0:\n",
    "                num_atoms = int(line)\n",
    "            elif line_num == 1:\n",
    "                scalar_properties = [parse_float(i) for i in line.split()[2:]]\n",
    "            elif 2 <= line_num <= 1 + num_atoms:\n",
    "                atom_symbol, x, y, z, charge = line.split()\n",
    "                atomic_symbols.append(atom_symbol)\n",
    "                xyz.append([parse_float(x), parse_float(y), parse_float(z)])\n",
    "                charges.append(parse_float(charge))\n",
    "            elif line_num == num_atoms + 3:\n",
    "                smiles = str(line.split())\n",
    "\n",
    "    result = {\n",
    "        'num_atoms': num_atoms,\n",
    "        'atomic_symbols': atomic_symbols,\n",
    "        'pos': np.array(xyz),\n",
    "        'charges': np.array(charges),\n",
    "        'smiles': smiles\n",
    "    }\n",
    "    return result"
   ]
  },
  {
   "cell_type": "code",
   "execution_count": 5,
   "metadata": {},
   "outputs": [],
   "source": [
    "# given 1 <= start <= 133885 and 1 <= end <= 133885 return array of soap \n",
    "# vectors for molecules start, start+1, ..., end\n",
    "def build_soap(start, end):\n",
    "    soaps = []\n",
    "    for i in range(start, end+1):\n",
    "\n",
    "        # create molecule object\n",
    "        file_name = \"../../data/dsgdb9nsd.xyz/dsgdb9nsd_\" + \\\n",
    "            str(i).zfill(6) + \".xyz\"\n",
    "        molecule = parse_xyz(file_name)\n",
    "        molecule_obj = Atoms(symbols=molecule[\"atomic_symbols\"], positions=molecule[\"pos\"])\n",
    "\n",
    "        # set up soap descriptor\n",
    "        species = set()\n",
    "        species.update(molecule_obj.get_chemical_symbols())\n",
    "\n",
    "        soap = SOAP(\n",
    "            species=species,\n",
    "            periodic=False,\n",
    "            rcut=5,\n",
    "            nmax=8,\n",
    "            lmax=8,\n",
    "            average=\"outer\",\n",
    "            sparse=False\n",
    "        )\n",
    "        feature_vector = soap.create(molecule_obj)\n",
    "        soaps.append(feature_vector)\n",
    "    return soaps\n",
    "    "
   ]
  },
  {
   "cell_type": "code",
   "execution_count": 6,
   "metadata": {},
   "outputs": [],
   "source": [
    "def build_soap2(size):\n",
    "    molecules = []\n",
    "    for i in range(1, 133885+1):\n",
    "        # create molecule object\n",
    "        file_name = \"../../data/dsgdb9nsd.xyz/dsgdb9nsd_\" + \\\n",
    "            str(i).zfill(6) + \".xyz\"\n",
    "        molecule = parse_xyz(file_name)\n",
    "        molecule_obj = Atoms(symbols=molecule[\"atomic_symbols\"], positions=molecule[\"pos\"])\n",
    "        molecules.append(molecule_obj)\n",
    "    \n",
    "    random.seed(4) \n",
    "    random.shuffle(molecules)\n",
    "    molecules = molecules[:size]\n",
    "    # create SOAP object\n",
    "    soap = SOAP(\n",
    "        species=[\"C\", \"H\", \"O\", \"N\", \"F\"],\n",
    "        periodic=False,\n",
    "        rcut=5,\n",
    "        nmax=12,\n",
    "        lmax=9,\n",
    "        average=\"outer\",\n",
    "        sparse=False\n",
    "    )\n",
    "    \n",
    "    feature_vector = soap.create(molecules)\n",
    "    return feature_vector\n",
    "        \n",
    "    "
   ]
  },
  {
   "cell_type": "code",
   "execution_count": 7,
   "metadata": {},
   "outputs": [],
   "source": [
    "def transform(filepath, size):\n",
    "    # parse gap data from qm9\n",
    "    u0 = {}\n",
    "    with open(filepath, newline = '') as csvfile:\n",
    "        reader = csv.DictReader(csvfile)\n",
    "        for row in reader:\n",
    "            u0[row['mol_id']] = float(row['u0_atom'])\n",
    "    u0_data = list(u0.values())\n",
    "    random.seed(4) \n",
    "    random.shuffle(u0_data)\n",
    "    u0_data = u0_data[:size]\n",
    "    soaps = build_soap2(size)\n",
    "    print(soaps.shape)\n",
    "    \n",
    "    u0_train, u0_test = np.array(u0_data[:int(size*.75)]), np.array(u0_data[int(size*.75):])\n",
    "    soap_train, soap_test = np.array(soaps[:int(size*.75)],dtype=object), np.array(soaps[int(size*.75):],dtype=object)\n",
    "    return soap_train, soap_test, u0_train, u0_test"
   ]
  },
  {
   "cell_type": "code",
   "execution_count": 15,
   "metadata": {},
   "outputs": [],
   "source": [
    "def create_model(size, alpha):\n",
    "    model = KernelRidge(alpha=alpha)\n",
    "    filepath = os.path.join(\"..\",\"..\",\"data\",\"qm9.csv\")\n",
    "    soap_train, soap_test, u0_train, u0_test = transform(filepath, size)\n",
    "    model.fit(soap_train, u0_train)\n",
    "    predict = model.predict(soap_test)\n",
    "    \n",
    "    r_sqr = r2_score(u0_test, predict)\n",
    "    rmse = math.sqrt(mean_squared_error(u0_test, predict))\n",
    "    mae = mean_absolute_error(u0_test, predict)\n",
    "    #print(\"gap test: \", gap_test)\n",
    "    #print(\"gap predict: \", predict)\n",
    "    print(\"r^2: \",r_sqr)\n",
    "    print(\"rmse: \", rmse)\n",
    "    print(\"mae: \", mae)"
   ]
  },
  {
   "cell_type": "code",
   "execution_count": 16,
   "metadata": {},
   "outputs": [
    {
     "name": "stdout",
     "output_type": "stream",
     "text": [
      "(667, 18300)\n",
      "r^2:  0.9970193111678198\n",
      "rmse:  12.275675417932092\n",
      "mae:  9.124100137095171\n"
     ]
    }
   ],
   "source": [
    "# nmax = 12, lmax = 9, train: 500, 75/25 split, kernel test\n",
    "if __name__ == \"__main__\":\n",
    "    #alphas = [0.0001, 0.001, 0.01, 0.1, 1, 10]\n",
    "    size = 667\n",
    "    create_model(size, 1)"
   ]
  },
  {
   "cell_type": "code",
   "execution_count": 40,
   "metadata": {},
   "outputs": [
    {
     "name": "stdout",
     "output_type": "stream",
     "text": [
      "(1667, 18300)\n",
      "r^2:  0.9985193972516689\n",
      "rmse:  9.173373871674238\n",
      "mae:  6.648644137837299\n"
     ]
    }
   ],
   "source": [
    "# nmax = 12, lmax = 9, train: 1250, 75/25 split\n",
    "if __name__ == \"__main__\":\n",
    "    size = 1667\n",
    "    create_model(size)"
   ]
  },
  {
   "cell_type": "code",
   "execution_count": 41,
   "metadata": {},
   "outputs": [
    {
     "name": "stdout",
     "output_type": "stream",
     "text": [
      "(6667, 18300)\n",
      "r^2:  0.9989911799849506\n",
      "rmse:  7.502455096672679\n",
      "mae:  5.441493048620963\n"
     ]
    }
   ],
   "source": [
    "# nmax = 12, lmax = 9, train: 5000, 75/25 split\n",
    "if __name__ == \"__main__\":\n",
    "    size = 6667\n",
    "    create_model(size)"
   ]
  },
  {
   "cell_type": "code",
   "execution_count": 42,
   "metadata": {},
   "outputs": [
    {
     "name": "stdout",
     "output_type": "stream",
     "text": [
      "(16667, 18300)\n",
      "r^2:  0.9992442410329899\n",
      "rmse:  6.609000137945278\n",
      "mae:  4.884883331961093\n"
     ]
    }
   ],
   "source": [
    "# nmax = 12, lmax = 9, train: 12500, 75/25 split\n",
    "if __name__ == \"__main__\":\n",
    "    size = 16667\n",
    "    create_model(size)"
   ]
  },
  {
   "cell_type": "code",
   "execution_count": 43,
   "metadata": {},
   "outputs": [
    {
     "name": "stdout",
     "output_type": "stream",
     "text": [
      "(25000, 18300)\n",
      "r^2:  0.9993076473488788\n",
      "rmse:  6.228635284057679\n",
      "mae:  4.516556656800054\n"
     ]
    }
   ],
   "source": [
    "# nmax = 12, lmax = 9, train: 25000, 75/25 split\n",
    "if __name__ == \"__main__\":\n",
    "    size = 25000\n",
    "    create_model(size)"
   ]
  },
  {
   "cell_type": "code",
   "execution_count": 11,
   "metadata": {},
   "outputs": [
    {
     "name": "stdout",
     "output_type": "stream",
     "text": [
      "u0 train sd:  254.07177904440334\n",
      "u0 test sd:  246.82420245375928\n"
     ]
    }
   ],
   "source": [
    "soap_train, soap_test, u0_train, u0_test = transform(\"../../data/qm9.csv\", 6667)\n",
    "print(\"u0 train sd: \", np.std(u0_train))\n",
    "print(\"u0 test sd: \", np.std(u0_test))\n"
   ]
  },
  {
   "cell_type": "code",
   "execution_count": 12,
   "metadata": {},
   "outputs": [
    {
     "name": "stdout",
     "output_type": "stream",
     "text": [
      "u0 train sd:  242.20061297230475\n",
      "u0 test sd:  239.86647643987908\n"
     ]
    }
   ],
   "source": [
    "soap_train, soap_test, u0_train, u0_test = transform(\"../../data/qm9.csv\", 16667)\n",
    "print(\"u0 train sd: \", np.std(u0_train))\n",
    "print(\"u0 test sd: \", np.std(u0_test))\n"
   ]
  },
  {
   "cell_type": "code",
   "execution_count": 13,
   "metadata": {},
   "outputs": [
    {
     "name": "stdout",
     "output_type": "stream",
     "text": [
      "u0 train sd:  224.61148933084095\n",
      "u0 test sd:  220.01239203266059\n"
     ]
    }
   ],
   "source": [
    "soap_train, soap_test, u0_train, u0_test = transform(\"../../data/qm9.csv\", 33333)\n",
    "print(\"u0 train sd: \", np.std(u0_train))\n",
    "print(\"u0 test sd: \", np.std(u0_test))\n"
   ]
  },
  {
   "cell_type": "code",
   "execution_count": null,
   "metadata": {},
   "outputs": [],
   "source": []
  }
 ],
 "metadata": {
  "kernelspec": {
   "display_name": "Python [conda env:my-rdkit-env]",
   "language": "python",
   "name": "conda-env-my-rdkit-env-py"
  },
  "language_info": {
   "codemirror_mode": {
    "name": "ipython",
    "version": 3
   },
   "file_extension": ".py",
   "mimetype": "text/x-python",
   "name": "python",
   "nbconvert_exporter": "python",
   "pygments_lexer": "ipython3",
   "version": "3.9.2"
  }
 },
 "nbformat": 4,
 "nbformat_minor": 4
}
