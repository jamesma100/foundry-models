{
 "cells": [
  {
   "cell_type": "code",
   "execution_count": 17,
   "id": "52d4f18c",
   "metadata": {},
   "outputs": [],
   "source": [
    "from matplotlib import pyplot\n",
    "import numpy as np\n",
    "import csv\n",
    "import sqlite3\n",
    "import pandas as pd"
   ]
  },
  {
   "cell_type": "code",
   "execution_count": 18,
   "id": "f0bf7a54",
   "metadata": {},
   "outputs": [],
   "source": [
    "from sklearn.metrics import mean_squared_error\n",
    "from sklearn.metrics import mean_absolute_error\n",
    "from sklearn.metrics import r2_score"
   ]
  },
  {
   "cell_type": "code",
   "execution_count": 19,
   "id": "5fdc4b83",
   "metadata": {},
   "outputs": [],
   "source": [
    "from rdkit import Chem\n",
    "from rdkit.Chem import MACCSkeys"
   ]
  },
  {
   "cell_type": "code",
   "execution_count": 55,
   "id": "c7d80a73",
   "metadata": {},
   "outputs": [],
   "source": [
    "# data prep code same with Sahas's XGBoost model\n",
    "\n",
    "def Transform_Data():\n",
    "    \n",
    "    SMILESdata, HomoData, LumoData = readCSV('../data/qm9.csv')\n",
    "    SMILESstrings = list(SMILESdata.keys())\n",
    "    FeatureVector = []\n",
    "    BadParticles = []\n",
    "    for string in SMILESstrings:\n",
    "        mol = Chem.MolFromSmiles(SMILESdata[string])\n",
    "        if(mol != None):\n",
    "            fp = MACCSkeys.GenMACCSKeys(mol)\n",
    "            fpBits = fp.ToBitString()\n",
    "            FeatureVector.append(split(fpBits))\n",
    "        else:\n",
    "            BadParticles.append(string)\n",
    "    X = np.array(FeatureVector[:75000])\n",
    "    Z = np.array(FeatureVector[75000:100000])\n",
    "    print(X.shape)\n",
    "    print(Z.shape)\n",
    "    for keys in BadParticles:\n",
    "        del HomoData[keys]\n",
    "        del LumoData[keys]\n",
    "    HomoData = list(HomoData.values())\n",
    "    LumoData = list(LumoData.values())\n",
    "    y1 = np.array(HomoData[:75000])\n",
    "    y2 = np.array(LumoData[:75000])\n",
    "    w1 = np.array(HomoData[75000:100000])\n",
    "    w2 = np.array(LumoData[75000:100000])\n",
    "    print(y1.shape)\n",
    "    print(w1.shape)\n",
    "    return X, Z, w1, w2, y1, y2\n",
    "\n",
    "def split(bitString):\n",
    "    \n",
    "    return [int(char) for char in bitString] \n",
    "\n",
    "def readCSV(filepath):\n",
    "\n",
    "    Smile_Strings = {}\n",
    "    Homo_Id = {}\n",
    "    Lumo_Id = {}\n",
    "    with open(filepath, newline = '') as csvfile:\n",
    "        reader = csv.DictReader(csvfile)\n",
    "        for row in reader:\n",
    "            Smile_Strings[row['mol_id']] = row['smiles']\n",
    "            Homo_Id[row['mol_id']] = float(row['homo'])\n",
    "            Lumo_Id[row['mol_id']] = float(row['lumo'])\n",
    "    \n",
    "    return Smile_Strings, Homo_Id, Lumo_Id"
   ]
  },
  {
   "cell_type": "code",
   "execution_count": 57,
   "id": "fd2a3649",
   "metadata": {},
   "outputs": [
    {
     "name": "stdout",
     "output_type": "stream",
     "text": [
      "(75000, 167)\n",
      "(25000, 167)\n",
      "(75000,)\n",
      "(25000,)\n",
      "\n"
     ]
    }
   ],
   "source": [
    "Transform_Data()\n",
    "print()"
   ]
  },
  {
   "cell_type": "code",
   "execution_count": 58,
   "id": "b88e1c8f",
   "metadata": {},
   "outputs": [],
   "source": [
    "def CreateModel():\n",
    "    model = KernelRidge(kernel=\"laplacian\")\n",
    "    X, y, Z, w = TransformData()\n",
    "    model.fit(X, y)\n",
    "    predict = model.predict(Z)\n",
    "    print(predict[1])\n",
    "    R_squared = r2_score(predict, w)\n",
    "    RMSE = mean_squared_error(predict, w)\n",
    "    MAE = mean_absolute_error(predict, w)\n",
    "    print(\"The R^2 score is: \", R_squared)\n",
    "    print(\"The RMSE score is: \", RMSE)\n",
    "    print(\"The MAE score is: \", MAE)"
   ]
  },
  {
   "cell_type": "code",
   "execution_count": null,
   "id": "5a4f2366",
   "metadata": {},
   "outputs": [],
   "source": []
  },
  {
   "cell_type": "code",
   "execution_count": null,
   "id": "937d6ae1",
   "metadata": {},
   "outputs": [],
   "source": []
  },
  {
   "cell_type": "code",
   "execution_count": null,
   "id": "57cae6f2",
   "metadata": {},
   "outputs": [],
   "source": []
  },
  {
   "cell_type": "code",
   "execution_count": null,
   "id": "280e3456",
   "metadata": {},
   "outputs": [],
   "source": []
  },
  {
   "cell_type": "code",
   "execution_count": null,
   "id": "090b6991",
   "metadata": {},
   "outputs": [],
   "source": []
  },
  {
   "cell_type": "code",
   "execution_count": null,
   "id": "c7da8ec7",
   "metadata": {},
   "outputs": [],
   "source": []
  },
  {
   "cell_type": "code",
   "execution_count": null,
   "id": "31dca60c",
   "metadata": {},
   "outputs": [],
   "source": []
  },
  {
   "cell_type": "code",
   "execution_count": null,
   "id": "a2c06382",
   "metadata": {},
   "outputs": [],
   "source": []
  }
 ],
 "metadata": {
  "kernelspec": {
   "display_name": "Python 3",
   "language": "python",
   "name": "python3"
  },
  "language_info": {
   "codemirror_mode": {
    "name": "ipython",
    "version": 3
   },
   "file_extension": ".py",
   "mimetype": "text/x-python",
   "name": "python",
   "nbconvert_exporter": "python",
   "pygments_lexer": "ipython3",
   "version": "3.7.10"
  }
 },
 "nbformat": 4,
 "nbformat_minor": 5
}
