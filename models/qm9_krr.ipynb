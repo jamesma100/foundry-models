{
 "cells": [
  {
   "cell_type": "code",
   "execution_count": 17,
   "id": "52d4f18c",
   "metadata": {},
   "outputs": [],
   "source": [
    "from matplotlib import pyplot\n",
    "import numpy as np\n",
    "import csv\n",
    "import sqlite3\n",
    "import pandas as pd"
   ]
  },
  {
   "cell_type": "code",
   "execution_count": 60,
   "id": "f0bf7a54",
   "metadata": {},
   "outputs": [],
   "source": [
    "from sklearn.metrics import mean_squared_error\n",
    "from sklearn.metrics import mean_absolute_error\n",
    "from sklearn.metrics import r2_score\n",
    "from sklearn.kernel_ridge import KernelRidge"
   ]
  },
  {
   "cell_type": "code",
   "execution_count": 19,
   "id": "827086c2",
   "metadata": {},
   "outputs": [],
   "source": [
    "from rdkit import Chem\n",
    "from rdkit.Chem import MACCSkeys"
   ]
  },
  {
   "cell_type": "code",
   "execution_count": 55,
   "id": "ba75c95a",
   "metadata": {},
   "outputs": [],
   "source": [
    "def Transform_Data():\n",
    "    \n",
    "    SMILESdata, HomoData, LumoData = readCSV('../data/qm9.csv')\n",
    "    SMILESstrings = list(SMILESdata.keys())\n",
    "    FeatureVector = []\n",
    "    BadParticles = []\n",
    "    for string in SMILESstrings:\n",
    "        mol = Chem.MolFromSmiles(SMILESdata[string])\n",
    "        if(mol != None):\n",
    "            fp = MACCSkeys.GenMACCSKeys(mol)\n",
    "            fpBits = fp.ToBitString()\n",
    "            FeatureVector.append(split(fpBits))\n",
    "        else:\n",
    "            BadParticles.append(string)\n",
    "    X = np.array(FeatureVector[:75000])\n",
    "    Z = np.array(FeatureVector[75000:100000])\n",
    "    print(X.shape)\n",
    "    print(Z.shape)\n",
    "    for keys in BadParticles:\n",
    "        del HomoData[keys]\n",
    "        del LumoData[keys]\n",
    "    HomoData = list(HomoData.values())\n",
    "    LumoData = list(LumoData.values())\n",
    "    y1 = np.array(HomoData[:75000])\n",
    "    y2 = np.array(LumoData[:75000])\n",
    "    w1 = np.array(HomoData[75000:100000])\n",
    "    w2 = np.array(LumoData[75000:100000])\n",
    "    print(y1.shape)\n",
    "    print(w1.shape)\n",
    "    return X, Z, w1, w2, y1, y2\n",
    "\n",
    "def split(bitString):\n",
    "    \n",
    "    return [int(char) for char in bitString] \n",
    "\n",
    "def readCSV(filepath):\n",
    "\n",
    "    Smile_Strings = {}\n",
    "    Homo_Id = {}\n",
    "    Lumo_Id = {}\n",
    "    with open(filepath, newline = '') as csvfile:\n",
    "        reader = csv.DictReader(csvfile)\n",
    "        for row in reader:\n",
    "            Smile_Strings[row['mol_id']] = row['smiles']\n",
    "            Homo_Id[row['mol_id']] = float(row['homo'])\n",
    "            Lumo_Id[row['mol_id']] = float(row['lumo'])\n",
    "    \n",
    "    return Smile_Strings, Homo_Id, Lumo_Id"
   ]
  },
  {
   "cell_type": "code",
   "execution_count": 57,
   "id": "09005fa3",
   "metadata": {},
   "outputs": [
    {
     "name": "stdout",
     "output_type": "stream",
     "text": [
      "(75000, 167)\n",
      "(25000, 167)\n",
      "(75000,)\n",
      "(25000,)\n",
      "\n"
     ]
    }
   ],
   "source": [
    "Transform_Data()\n",
    "print()"
   ]
  },
  {
   "cell_type": "code",
   "execution_count": 65,
   "id": "e0c97c85",
   "metadata": {},
   "outputs": [],
   "source": [
    "def CreateModel():\n",
    "    model = KernelRidge(kernel=\"laplacian\")\n",
    "    X, Z, w1, w2, y1, y2 = Transform_Data()\n",
    "    model.fit(X, y1)\n",
    "    predict = model.predict(Z)\n",
    "    print(predict)\n",
    "    R_squared = r2_score(predict, w)\n",
    "    RMSE = mean_squared_error(predict, w)\n",
    "    MAE = mean_absolute_error(predict, w)\n",
    "    print(\"The R^2 score is: \", R_squared)\n",
    "    print(\"The RMSE score is: \", RMSE)\n",
    "    print(\"The MAE score is: \", MAE)"
   ]
  },
  {
   "cell_type": "code",
   "execution_count": null,
   "id": "4265b2b1",
   "metadata": {},
   "outputs": [
    {
     "name": "stdout",
     "output_type": "stream",
     "text": [
      "(75000, 167)\n",
      "(25000, 167)\n",
      "(75000,)\n",
      "(25000,)\n"
     ]
    }
   ],
   "source": [
    "CreateModel()"
   ]
  },
  {
   "cell_type": "code",
   "execution_count": null,
   "id": "f2f0d0dc",
   "metadata": {},
   "outputs": [],
   "source": []
  },
  {
   "cell_type": "code",
   "execution_count": null,
   "id": "d556bf6f",
   "metadata": {},
   "outputs": [],
   "source": []
  },
  {
   "cell_type": "code",
   "execution_count": null,
   "id": "c576e6df",
   "metadata": {},
   "outputs": [],
   "source": []
  },
  {
   "cell_type": "code",
   "execution_count": null,
   "id": "5e0b5f0a",
   "metadata": {},
   "outputs": [],
   "source": []
  },
  {
   "cell_type": "code",
   "execution_count": null,
   "id": "0c4ee3e5",
   "metadata": {},
   "outputs": [],
   "source": []
  },
  {
   "cell_type": "code",
   "execution_count": null,
   "id": "466bbb98",
   "metadata": {},
   "outputs": [],
   "source": []
  },
  {
   "cell_type": "code",
   "execution_count": null,
   "id": "b9507b90",
   "metadata": {},
   "outputs": [],
   "source": []
  }
 ],
 "metadata": {
  "kernelspec": {
   "display_name": "Python 3",
   "language": "python",
   "name": "python3"
  },
  "language_info": {
   "codemirror_mode": {
    "name": "ipython",
    "version": 3
   },
   "file_extension": ".py",
   "mimetype": "text/x-python",
   "name": "python",
   "nbconvert_exporter": "python",
   "pygments_lexer": "ipython3",
   "version": "3.7.10"
  }
 },
 "nbformat": 4,
 "nbformat_minor": 5
}
